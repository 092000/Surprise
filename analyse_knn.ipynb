{
 "cells": [
  {
   "cell_type": "code",
   "execution_count": 1,
   "metadata": {
    "collapsed": false
   },
   "outputs": [],
   "source": [
    "import pickle\n",
    "import pandas as pd\n",
    "import numpy as np\n",
    "import matplotlib.pyplot as plt\n",
    "import matplotlib\n",
    "%matplotlib inline\n",
    "matplotlib.style.use('ggplot')\n",
    "from collections import Counter"
   ]
  },
  {
   "cell_type": "code",
   "execution_count": 2,
   "metadata": {
    "collapsed": false,
    "scrolled": true
   },
   "outputs": [
    {
     "data": {
      "text/html": [
       "<div>\n",
       "<table border=\"1\" class=\"dataframe\">\n",
       "  <thead>\n",
       "    <tr style=\"text-align: right;\">\n",
       "      <th></th>\n",
       "      <th>uid</th>\n",
       "      <th>iid</th>\n",
       "      <th>rui</th>\n",
       "      <th>est</th>\n",
       "      <th>wasImpossible</th>\n",
       "      <th>err</th>\n",
       "      <th>I_u</th>\n",
       "      <th>U_i</th>\n",
       "    </tr>\n",
       "  </thead>\n",
       "  <tbody>\n",
       "    <tr>\n",
       "      <th>0</th>\n",
       "      <td>64</td>\n",
       "      <td>26</td>\n",
       "      <td>3.0</td>\n",
       "      <td>3.649495</td>\n",
       "      <td>{'was_impossible': False}</td>\n",
       "      <td>0.649495</td>\n",
       "      <td>233</td>\n",
       "      <td>168</td>\n",
       "    </tr>\n",
       "    <tr>\n",
       "      <th>1</th>\n",
       "      <td>177</td>\n",
       "      <td>831</td>\n",
       "      <td>3.0</td>\n",
       "      <td>3.175855</td>\n",
       "      <td>{'was_impossible': False}</td>\n",
       "      <td>0.175855</td>\n",
       "      <td>125</td>\n",
       "      <td>99</td>\n",
       "    </tr>\n",
       "    <tr>\n",
       "      <th>2</th>\n",
       "      <td>76</td>\n",
       "      <td>4</td>\n",
       "      <td>4.0</td>\n",
       "      <td>3.325020</td>\n",
       "      <td>{'was_impossible': False}</td>\n",
       "      <td>0.674980</td>\n",
       "      <td>81</td>\n",
       "      <td>128</td>\n",
       "    </tr>\n",
       "  </tbody>\n",
       "</table>\n",
       "</div>"
      ],
      "text/plain": [
       "   uid  iid  rui       est              wasImpossible       err  I_u  U_i\n",
       "0   64   26  3.0  3.649495  {'was_impossible': False}  0.649495  233  168\n",
       "1  177  831  3.0  3.175855  {'was_impossible': False}  0.175855  125   99\n",
       "2   76    4  4.0  3.325020  {'was_impossible': False}  0.674980   81  128"
      ]
     },
     "execution_count": 2,
     "metadata": {},
     "output_type": "execute_result"
    }
   ],
   "source": [
    "dump_file = '/home/nico/.pyrec_data/dumps/161017-15h46m41-KNNBasic'  # launch \n",
    "dump = pickle.load(open(dump_file, 'rb'))['fold_0']\n",
    "\n",
    "df = pd.DataFrame(dump['predictions'], columns=['uid', 'iid', 'rui', 'est', 'wasImpossible'])\n",
    "# add the error column\n",
    "df['err'] = abs(df.est - df.rui)\n",
    "# add the |I_u| and |U_i| columns\n",
    "df['I_u'] = df.uid.apply(lambda uid: len(dump['trainset'].ur[uid]))\n",
    "df['U_i'] = df.iid.apply(lambda iid: len(dump['trainset'].ir[iid]))\n",
    "df[:3]"
   ]
  },
  {
   "cell_type": "code",
   "execution_count": 3,
   "metadata": {
    "collapsed": false,
    "scrolled": false
   },
   "outputs": [
    {
     "data": {
      "text/html": [
       "<div>\n",
       "<table border=\"1\" class=\"dataframe\">\n",
       "  <thead>\n",
       "    <tr style=\"text-align: right;\">\n",
       "      <th></th>\n",
       "      <th>uid</th>\n",
       "      <th>iid</th>\n",
       "      <th>rui</th>\n",
       "      <th>est</th>\n",
       "      <th>wasImpossible</th>\n",
       "      <th>err</th>\n",
       "      <th>I_u</th>\n",
       "      <th>U_i</th>\n",
       "    </tr>\n",
       "  </thead>\n",
       "  <tbody>\n",
       "    <tr>\n",
       "      <th>7022</th>\n",
       "      <td>744</td>\n",
       "      <td>1420</td>\n",
       "      <td>4.0</td>\n",
       "      <td>4.0</td>\n",
       "      <td>{'was_impossible': False}</td>\n",
       "      <td>0.0</td>\n",
       "      <td>27</td>\n",
       "      <td>3</td>\n",
       "    </tr>\n",
       "    <tr>\n",
       "      <th>2399</th>\n",
       "      <td>28</td>\n",
       "      <td>1186</td>\n",
       "      <td>1.0</td>\n",
       "      <td>1.0</td>\n",
       "      <td>{'was_impossible': False}</td>\n",
       "      <td>0.0</td>\n",
       "      <td>583</td>\n",
       "      <td>2</td>\n",
       "    </tr>\n",
       "    <tr>\n",
       "      <th>11879</th>\n",
       "      <td>145</td>\n",
       "      <td>1474</td>\n",
       "      <td>1.0</td>\n",
       "      <td>1.0</td>\n",
       "      <td>{'was_impossible': False}</td>\n",
       "      <td>0.0</td>\n",
       "      <td>140</td>\n",
       "      <td>3</td>\n",
       "    </tr>\n",
       "    <tr>\n",
       "      <th>16688</th>\n",
       "      <td>505</td>\n",
       "      <td>1474</td>\n",
       "      <td>1.0</td>\n",
       "      <td>1.0</td>\n",
       "      <td>{'was_impossible': False}</td>\n",
       "      <td>0.0</td>\n",
       "      <td>140</td>\n",
       "      <td>3</td>\n",
       "    </tr>\n",
       "    <tr>\n",
       "      <th>6717</th>\n",
       "      <td>28</td>\n",
       "      <td>889</td>\n",
       "      <td>1.0</td>\n",
       "      <td>1.0</td>\n",
       "      <td>{'was_impossible': False}</td>\n",
       "      <td>0.0</td>\n",
       "      <td>583</td>\n",
       "      <td>2</td>\n",
       "    </tr>\n",
       "    <tr>\n",
       "      <th>1292</th>\n",
       "      <td>244</td>\n",
       "      <td>1551</td>\n",
       "      <td>3.0</td>\n",
       "      <td>3.0</td>\n",
       "      <td>{'was_impossible': False}</td>\n",
       "      <td>0.0</td>\n",
       "      <td>144</td>\n",
       "      <td>1</td>\n",
       "    </tr>\n",
       "    <tr>\n",
       "      <th>6046</th>\n",
       "      <td>303</td>\n",
       "      <td>1262</td>\n",
       "      <td>1.0</td>\n",
       "      <td>1.0</td>\n",
       "      <td>{'was_impossible': False}</td>\n",
       "      <td>0.0</td>\n",
       "      <td>532</td>\n",
       "      <td>4</td>\n",
       "    </tr>\n",
       "    <tr>\n",
       "      <th>12445</th>\n",
       "      <td>411</td>\n",
       "      <td>1618</td>\n",
       "      <td>4.0</td>\n",
       "      <td>4.0</td>\n",
       "      <td>{'was_impossible': False}</td>\n",
       "      <td>0.0</td>\n",
       "      <td>87</td>\n",
       "      <td>1</td>\n",
       "    </tr>\n",
       "    <tr>\n",
       "      <th>3748</th>\n",
       "      <td>303</td>\n",
       "      <td>1379</td>\n",
       "      <td>1.0</td>\n",
       "      <td>1.0</td>\n",
       "      <td>{'was_impossible': False}</td>\n",
       "      <td>0.0</td>\n",
       "      <td>532</td>\n",
       "      <td>3</td>\n",
       "    </tr>\n",
       "    <tr>\n",
       "      <th>16882</th>\n",
       "      <td>453</td>\n",
       "      <td>1467</td>\n",
       "      <td>2.0</td>\n",
       "      <td>2.0</td>\n",
       "      <td>{'was_impossible': False}</td>\n",
       "      <td>0.0</td>\n",
       "      <td>179</td>\n",
       "      <td>1</td>\n",
       "    </tr>\n",
       "  </tbody>\n",
       "</table>\n",
       "</div>"
      ],
      "text/plain": [
       "       uid   iid  rui  est              wasImpossible  err  I_u  U_i\n",
       "7022   744  1420  4.0  4.0  {'was_impossible': False}  0.0   27    3\n",
       "2399    28  1186  1.0  1.0  {'was_impossible': False}  0.0  583    2\n",
       "11879  145  1474  1.0  1.0  {'was_impossible': False}  0.0  140    3\n",
       "16688  505  1474  1.0  1.0  {'was_impossible': False}  0.0  140    3\n",
       "6717    28   889  1.0  1.0  {'was_impossible': False}  0.0  583    2\n",
       "1292   244  1551  3.0  3.0  {'was_impossible': False}  0.0  144    1\n",
       "6046   303  1262  1.0  1.0  {'was_impossible': False}  0.0  532    4\n",
       "12445  411  1618  4.0  4.0  {'was_impossible': False}  0.0   87    1\n",
       "3748   303  1379  1.0  1.0  {'was_impossible': False}  0.0  532    3\n",
       "16882  453  1467  2.0  2.0  {'was_impossible': False}  0.0  179    1"
      ]
     },
     "execution_count": 3,
     "metadata": {},
     "output_type": "execute_result"
    }
   ],
   "source": [
    "# let's take a look at predictions where error is very low\n",
    "best_preds = df.sort_values(by='err')[:10]\n",
    "best_preds"
   ]
  },
  {
   "cell_type": "markdown",
   "metadata": {
    "collapsed": false
   },
   "source": [
    "These are actually lucky shots: $|U_i|$ is always very low, meaning that very few users have rated the target item. This implies that the set of elligible neighbors is very small... And, it just happens that all the ratings from the neighbors are the same (and mostly, are equal to that of the target user). Not convinced ? try that:"
   ]
  },
  {
   "cell_type": "code",
   "execution_count": 5,
   "metadata": {
    "collapsed": false
   },
   "outputs": [
    {
     "data": {
      "text/plain": [
       "7022     0.0\n",
       "2399     0.0\n",
       "11879    0.0\n",
       "16688    0.0\n",
       "6717     0.0\n",
       "1292     0.0\n",
       "6046     0.0\n",
       "12445    0.0\n",
       "3748     0.0\n",
       "16882    0.0\n",
       "Name: iid, dtype: float64"
      ]
     },
     "execution_count": 5,
     "metadata": {},
     "output_type": "execute_result"
    }
   ],
   "source": [
    "def std_dev(ratings):\n",
    "    \"\"\"Return standard deviation of ratings contained in a list of (id, rating) tuples.\"\"\"\n",
    "    return np.std([r for (_, r) in ratings])\n",
    "    \n",
    "best_preds.iid.apply(lambda x:std_dev(dump['trainset'].ir[x]))"
   ]
  },
  {
   "cell_type": "code",
   "execution_count": 6,
   "metadata": {
    "collapsed": false
   },
   "outputs": [
    {
     "data": {
      "text/html": [
       "<div>\n",
       "<table border=\"1\" class=\"dataframe\">\n",
       "  <thead>\n",
       "    <tr style=\"text-align: right;\">\n",
       "      <th></th>\n",
       "      <th>uid</th>\n",
       "      <th>iid</th>\n",
       "      <th>rui</th>\n",
       "      <th>est</th>\n",
       "      <th>wasImpossible</th>\n",
       "      <th>err</th>\n",
       "      <th>I_u</th>\n",
       "      <th>U_i</th>\n",
       "    </tr>\n",
       "  </thead>\n",
       "  <tbody>\n",
       "    <tr>\n",
       "      <th>10701</th>\n",
       "      <td>24</td>\n",
       "      <td>1339</td>\n",
       "      <td>1.0</td>\n",
       "      <td>4.507309</td>\n",
       "      <td>{'was_impossible': False}</td>\n",
       "      <td>3.507309</td>\n",
       "      <td>244</td>\n",
       "      <td>4</td>\n",
       "    </tr>\n",
       "    <tr>\n",
       "      <th>4534</th>\n",
       "      <td>28</td>\n",
       "      <td>1177</td>\n",
       "      <td>1.0</td>\n",
       "      <td>4.518146</td>\n",
       "      <td>{'was_impossible': False}</td>\n",
       "      <td>3.518146</td>\n",
       "      <td>583</td>\n",
       "      <td>2</td>\n",
       "    </tr>\n",
       "    <tr>\n",
       "      <th>17116</th>\n",
       "      <td>386</td>\n",
       "      <td>325</td>\n",
       "      <td>1.0</td>\n",
       "      <td>4.526533</td>\n",
       "      <td>{'was_impossible': False}</td>\n",
       "      <td>3.526533</td>\n",
       "      <td>121</td>\n",
       "      <td>229</td>\n",
       "    </tr>\n",
       "    <tr>\n",
       "      <th>12016</th>\n",
       "      <td>28</td>\n",
       "      <td>1395</td>\n",
       "      <td>1.0</td>\n",
       "      <td>4.568176</td>\n",
       "      <td>{'was_impossible': False}</td>\n",
       "      <td>3.568176</td>\n",
       "      <td>583</td>\n",
       "      <td>5</td>\n",
       "    </tr>\n",
       "    <tr>\n",
       "      <th>17502</th>\n",
       "      <td>548</td>\n",
       "      <td>402</td>\n",
       "      <td>1.0</td>\n",
       "      <td>4.599840</td>\n",
       "      <td>{'was_impossible': False}</td>\n",
       "      <td>3.599840</td>\n",
       "      <td>396</td>\n",
       "      <td>215</td>\n",
       "    </tr>\n",
       "    <tr>\n",
       "      <th>2661</th>\n",
       "      <td>465</td>\n",
       "      <td>1395</td>\n",
       "      <td>1.0</td>\n",
       "      <td>4.609239</td>\n",
       "      <td>{'was_impossible': False}</td>\n",
       "      <td>3.609239</td>\n",
       "      <td>56</td>\n",
       "      <td>5</td>\n",
       "    </tr>\n",
       "    <tr>\n",
       "      <th>15129</th>\n",
       "      <td>184</td>\n",
       "      <td>402</td>\n",
       "      <td>1.0</td>\n",
       "      <td>4.645398</td>\n",
       "      <td>{'was_impossible': False}</td>\n",
       "      <td>3.645398</td>\n",
       "      <td>71</td>\n",
       "      <td>215</td>\n",
       "    </tr>\n",
       "    <tr>\n",
       "      <th>6414</th>\n",
       "      <td>62</td>\n",
       "      <td>1621</td>\n",
       "      <td>5.0</td>\n",
       "      <td>1.000000</td>\n",
       "      <td>{'was_impossible': False}</td>\n",
       "      <td>4.000000</td>\n",
       "      <td>286</td>\n",
       "      <td>1</td>\n",
       "    </tr>\n",
       "    <tr>\n",
       "      <th>2199</th>\n",
       "      <td>17</td>\n",
       "      <td>1526</td>\n",
       "      <td>1.0</td>\n",
       "      <td>5.000000</td>\n",
       "      <td>{'was_impossible': False}</td>\n",
       "      <td>4.000000</td>\n",
       "      <td>68</td>\n",
       "      <td>1</td>\n",
       "    </tr>\n",
       "    <tr>\n",
       "      <th>18434</th>\n",
       "      <td>267</td>\n",
       "      <td>1069</td>\n",
       "      <td>5.0</td>\n",
       "      <td>1.000000</td>\n",
       "      <td>{'was_impossible': False}</td>\n",
       "      <td>4.000000</td>\n",
       "      <td>368</td>\n",
       "      <td>1</td>\n",
       "    </tr>\n",
       "  </tbody>\n",
       "</table>\n",
       "</div>"
      ],
      "text/plain": [
       "       uid   iid  rui       est              wasImpossible       err  I_u  U_i\n",
       "10701   24  1339  1.0  4.507309  {'was_impossible': False}  3.507309  244    4\n",
       "4534    28  1177  1.0  4.518146  {'was_impossible': False}  3.518146  583    2\n",
       "17116  386   325  1.0  4.526533  {'was_impossible': False}  3.526533  121  229\n",
       "12016   28  1395  1.0  4.568176  {'was_impossible': False}  3.568176  583    5\n",
       "17502  548   402  1.0  4.599840  {'was_impossible': False}  3.599840  396  215\n",
       "2661   465  1395  1.0  4.609239  {'was_impossible': False}  3.609239   56    5\n",
       "15129  184   402  1.0  4.645398  {'was_impossible': False}  3.645398   71  215\n",
       "6414    62  1621  5.0  1.000000  {'was_impossible': False}  4.000000  286    1\n",
       "2199    17  1526  1.0  5.000000  {'was_impossible': False}  4.000000   68    1\n",
       "18434  267  1069  5.0  1.000000  {'was_impossible': False}  4.000000  368    1"
      ]
     },
     "execution_count": 6,
     "metadata": {},
     "output_type": "execute_result"
    }
   ],
   "source": [
    "# Now, let's take a look at predictions where error is very high\n",
    "worst_preds = df.sort_values(by='err')[-10:]\n",
    "worst_preds"
   ]
  },
  {
   "cell_type": "code",
   "execution_count": 9,
   "metadata": {
    "collapsed": false
   },
   "outputs": [
    {
     "data": {
      "image/png": "[encoded data removed]",
      "text/plain": [
       "<matplotlib.figure.Figure at 0x7f15dbc69668>"
      ]
     },
     "metadata": {},
     "output_type": "display_data"
    }
   ],
   "source": [
    "def plot_ratings(ratings, ax):\n",
    "    counter = Counter([r for (_, r) in ratings])\n",
    "    pd.DataFrame.from_dict(counter, orient='index').plot(kind='bar', ax=ax)\n",
    "\n",
    "fig = plt.figure(figsize=(20, 13))\n",
    "for i, iid in enumerate(worst_preds.uid):\n",
    "    ax = plt.subplot2grid((2,5),(i//5,i%5))\n",
    "    plot_ratings(dump['trainset'].ir[iid], ax)"
   ]
  },
  {
   "cell_type": "markdown",
   "metadata": {},
   "source": [
    "Conclusion? Well, when $\\hat{r}_{ui} = 1$ and very few users have rated $i$ to $1$, it's difficult for an algorithm to predict it..."
   ]
  },
  {
   "cell_type": "code",
   "execution_count": null,
   "metadata": {
    "collapsed": false
   },
   "outputs": [],
   "source": []
  },
  {
   "cell_type": "code",
   "execution_count": null,
   "metadata": {
    "collapsed": false
   },
   "outputs": [],
   "source": []
  },
  {
   "cell_type": "code",
   "execution_count": null,
   "metadata": {
    "collapsed": true
   },
   "outputs": [],
   "source": []
  }
 ],
 "metadata": {
  "kernelspec": {
   "display_name": "Python 3",
   "language": "python",
   "name": "python3"
  },
  "language_info": {
   "codemirror_mode": {
    "name": "ipython",
    "version": 3
   },
   "file_extension": ".py",
   "mimetype": "text/x-python",
   "name": "python",
   "nbconvert_exporter": "python",
   "pygments_lexer": "ipython3",
   "version": "3.5.1"
  }
 },
 "nbformat": 4,
 "nbformat_minor": 0
}
